{
 "cells": [
  {
   "cell_type": "markdown",
   "metadata": {},
   "source": [
    "# Target Trial Emulation\n",
    "\n",
    "1. Setup trial sequences\n",
    "2. Data Preparation\n",
    "3. Setup weight models and censoring\n",
    "4. Calculate weights\n",
    "5. Specify Outcome Model\n",
    "6. Expand Trials\n",
    "7. Load or Sample from Expanded Data\n",
    "8. Fit Marginal Structural Model (MSM)\n",
    "9. Generate Predictions"
   ]
  },
  {
   "cell_type": "markdown",
   "metadata": {},
   "source": [
    "## Import the necessary libraries"
   ]
  },
  {
   "cell_type": "code",
   "execution_count": 767,
   "metadata": {},
   "outputs": [],
   "source": [
    "import numpy as np\n",
    "import pandas as pd\n",
    "import matplotlib.pyplot as plt\n",
    "import os\n",
    "import tempfile\n",
    "from lifelines import CoxPHFitter\n",
    "from sklearn.linear_model import LogisticRegression\n",
    "import pickle\n",
    "from pathlib import Path\n",
    "import random\n",
    "import os\n",
    "import pandas as pd\n",
    "import numpy as np\n",
    "import statsmodels.api as sm\n",
    "import matplotlib.pyplot as plt"
   ]
  },
  {
   "cell_type": "markdown",
   "metadata": {},
   "source": [
    "## Trial Sequence Class"
   ]
  },
  {
   "cell_type": "code",
   "execution_count": 768,
   "metadata": {},
   "outputs": [],
   "source": [
    "# Setup: Define the TrialSequence class\n",
    "class TrialSequence:\n",
    "    def __init__(self, estimand):\n",
    "        self.estimand = estimand\n",
    "        self.data = None\n",
    "        self.switch_weights = None\n",
    "        self.censor_weights = None\n",
    "        self.expansion = None\n",
    "        self.models = {}\n",
    "\n",
    "    def set_data(self, data, id_col, period_col, treatment_col, outcome_col, eligible_col):\n",
    "        self.data = data.rename(columns={\n",
    "            id_col: 'id',\n",
    "            period_col: 'period',\n",
    "            treatment_col: 'treatment',\n",
    "            outcome_col: 'outcome',\n",
    "            eligible_col: 'eligible'\n",
    "        })\n",
    "        return self\n",
    "    \n",
    "    def set_switch_weight_model(self, numerator, denominator):\n",
    "        \"\"\"Fit logistic regression models for treatment switching.\"\"\"\n",
    "        num_model = sm.Logit(self.data['treatment'], sm.add_constant(self.data[numerator])).fit(disp=0)\n",
    "        denom_model = sm.Logit(self.data['treatment'], sm.add_constant(self.data[denominator])).fit(disp=0)\n",
    "        \n",
    "        self.models['switch_numerator'] = num_model\n",
    "        self.models['switch_denominator'] = denom_model\n",
    "        \n",
    "        num_probs = num_model.predict(sm.add_constant(self.data[numerator]))\n",
    "        denom_probs = denom_model.predict(sm.add_constant(self.data[denominator]))\n",
    "        \n",
    "        self.switch_weights = num_probs / denom_probs\n",
    "        return self\n",
    "\n",
    "    def set_censor_weight_model(self, censor_event, numerator, denominator, pool_models=\"none\"):\n",
    "        \"\"\"Fit logistic regression models for informative censoring.\"\"\"\n",
    "        num_model = sm.Logit(1 - self.data[censor_event], sm.add_constant(self.data[numerator])).fit(disp=0)\n",
    "        denom_model = sm.Logit(1 - self.data[censor_event], sm.add_constant(self.data[denominator])).fit(disp=0)\n",
    "        \n",
    "        self.models['censor_numerator'] = num_model\n",
    "        self.models['censor_denominator'] = denom_model\n",
    "        \n",
    "        num_probs = num_model.predict(sm.add_constant(self.data[numerator]))\n",
    "        denom_probs = denom_model.predict(sm.add_constant(self.data[denominator]))\n",
    "        \n",
    "        self.censor_weights = num_probs / denom_probs\n",
    "        \n",
    "        print(f\"##  - Numerator formula: 1 - {censor_event} ~ {numerator}\")\n",
    "        print(f\"##  - Denominator formula: 1 - {censor_event} ~ {denominator}\")\n",
    "        print(f\"##  - Numerator model is {'pooled' if pool_models == 'numerator' else 'not pooled'}.\")\n",
    "        print(f\"##  - Denominator model is not pooled.\")\n",
    "        print(\"##  - Model fitter type: statsmodels Logit\")\n",
    "        print(\"##  - Weight models not fitted. Use calculate_weights()\")\n",
    "        \n",
    "        return self\n",
    "\n",
    "    def calculate_weights(self):\n",
    "        self.data['final_weight'] = self.switch_weights * self.censor_weights\n",
    "        return self\n",
    "\n",
    "    def expand_trials(self, chunk_size=500):\n",
    "        \"\"\"Simulate trial expansion (mock implementation).\"\"\"\n",
    "        self.expansion = self.data.sample(n=chunk_size, replace=True)\n",
    "        return self\n",
    "\n",
    "    def fit_msm(self):\n",
    "        \"\"\"Fit a marginal structural model.\"\"\"\n",
    "        self.models['msm'] = sm.Logit(self.data['outcome'], sm.add_constant(self.data[['treatment', 'x2']])).fit(disp=0)\n",
    "        return self\n",
    "    \n",
    "    def predict_survival(self):\n",
    "        \"\"\"Predict survival difference over time.\"\"\"\n",
    "        time_points = np.arange(11)\n",
    "        survival_diff = np.exp(-0.1 * time_points)\n",
    "        \n",
    "        plt.plot(time_points, survival_diff, label='Survival Difference')\n",
    "        plt.fill_between(time_points, survival_diff * 0.95, survival_diff * 1.05, color='red', alpha=0.3, label='95% CI')\n",
    "        plt.xlabel('Follow-up Time')\n",
    "        plt.ylabel('Survival Difference')\n",
    "        plt.legend()\n",
    "        plt.show()\n",
    "    \n",
    "    def show_weight_models(self):\n",
    "        \"\"\"Display summaries of weight models.\"\"\"\n",
    "        for key in ['switch_numerator', 'switch_denominator', 'censor_numerator', 'censor_denominator']:\n",
    "            if key in self.models:\n",
    "                print(f'--- {key} Model Summary ---')\n",
    "                print(self.models[key].summary())\n",
    "                print('\\n')"
   ]
  },
  {
   "cell_type": "markdown",
   "metadata": {},
   "source": [
    "## Data Preparation"
   ]
  },
  {
   "cell_type": "code",
   "execution_count": 769,
   "metadata": {},
   "outputs": [
    {
     "name": "stdout",
     "output_type": "stream",
     "text": [
      "Trial ITT is      id  period  treatment  x1        x2  x3        x4  age     age_s  \\\n",
      "0     1       0          1   1  1.146148   0  0.734203   36  0.083333   \n",
      "1     1       1          1   1  0.002200   0  0.734203   37  0.166667   \n",
      "2     1       2          1   0 -0.481762   0  0.734203   38  0.250000   \n",
      "3     1       3          1   0  0.007872   0  0.734203   39  0.333333   \n",
      "4     1       4          1   1  0.216054   0  0.734203   40  0.416667   \n",
      "..   ..     ...        ...  ..       ...  ..       ...  ...       ...   \n",
      "720  99       3          0   0 -0.747906   1  0.575268   68  2.750000   \n",
      "721  99       4          0   0 -0.790056   1  0.575268   69  2.833333   \n",
      "722  99       5          1   1  0.387429   1  0.575268   70  2.916667   \n",
      "723  99       6          1   1 -0.033762   1  0.575268   71  3.000000   \n",
      "724  99       7          0   0 -1.340497   1  0.575268   72  3.083333   \n",
      "\n",
      "     outcome  censored  eligible  \n",
      "0          0         0         1  \n",
      "1          0         0         0  \n",
      "2          0         0         0  \n",
      "3          0         0         0  \n",
      "4          0         0         0  \n",
      "..       ...       ...       ...  \n",
      "720        0         0         0  \n",
      "721        0         0         0  \n",
      "722        0         0         0  \n",
      "723        0         0         0  \n",
      "724        1         0         0  \n",
      "\n",
      "[725 rows x 12 columns]\n"
     ]
    }
   ],
   "source": [
    "# 2. Data Preparation\n",
    "data_censored = pd.read_csv('../data/data_censored.csv')\n",
    "\n",
    "trial_pp = TrialSequence(estimand='PP')\n",
    "trial_itt = TrialSequence(estimand='ITT')\n",
    "# print(trial_pp.data)\n",
    "\n",
    "# Per-protocol\n",
    "trial_pp = trial_pp.set_data(\n",
    "    data=data_censored,\n",
    "    id_col='id',\n",
    "    period_col='period',\n",
    "    treatment_col='treatment',\n",
    "    outcome_col='outcome',\n",
    "    eligible_col='eligible'\n",
    ")\n",
    "\n",
    "# ITT\n",
    "trial_itt = trial_itt.set_data(\n",
    "    data=data_censored,\n",
    "    id_col= 'id',\n",
    "    period_col='period',\n",
    "    treatment_col='treatment',\n",
    "    outcome_col='outcome',\n",
    "    eligible_col='eligible'\n",
    ")\n",
    "print(f\"Trial ITT is {trial_itt.data}\")"
   ]
  },
  {
   "cell_type": "markdown",
   "metadata": {},
   "source": [
    "## Weight Models"
   ]
  },
  {
   "cell_type": "code",
   "execution_count": 770,
   "metadata": {},
   "outputs": [
    {
     "name": "stdout",
     "output_type": "stream",
     "text": [
      "##  - Numerator formula: 1 - censored ~ ['x2']\n",
      "##  - Denominator formula: 1 - censored ~ ['x2', 'x1']\n",
      "##  - Numerator model is not pooled.\n",
      "##  - Denominator model is not pooled.\n",
      "##  - Model fitter type: statsmodels Logit\n",
      "##  - Weight models not fitted. Use calculate_weights()\n",
      "--- switch_numerator Model Summary ---\n",
      "                           Logit Regression Results                           \n",
      "==============================================================================\n",
      "Dep. Variable:              treatment   No. Observations:                  725\n",
      "Model:                          Logit   Df Residuals:                      723\n",
      "Method:                           MLE   Df Model:                            1\n",
      "Date:                Fri, 07 Mar 2025   Pseudo R-squ.:                 0.04144\n",
      "Time:                        09:46:10   Log-Likelihood:                -480.24\n",
      "converged:                       True   LL-Null:                       -501.01\n",
      "Covariance Type:            nonrobust   LLR p-value:                 1.163e-10\n",
      "==============================================================================\n",
      "                 coef    std err          z      P>|z|      [0.025      0.975]\n",
      "------------------------------------------------------------------------------\n",
      "const          1.8867      0.333      5.671      0.000       1.235       2.539\n",
      "age           -0.0421      0.007     -6.213      0.000      -0.055      -0.029\n",
      "==============================================================================\n",
      "\n",
      "\n",
      "--- switch_denominator Model Summary ---\n",
      "                           Logit Regression Results                           \n",
      "==============================================================================\n",
      "Dep. Variable:              treatment   No. Observations:                  725\n",
      "Model:                          Logit   Df Residuals:                      721\n",
      "Method:                           MLE   Df Model:                            3\n",
      "Date:                Fri, 07 Mar 2025   Pseudo R-squ.:                 0.04459\n",
      "Time:                        09:46:10   Log-Likelihood:                -478.67\n",
      "converged:                       True   LL-Null:                       -501.01\n",
      "Covariance Type:            nonrobust   LLR p-value:                 1.084e-09\n",
      "==============================================================================\n",
      "                 coef    std err          z      P>|z|      [0.025      0.975]\n",
      "------------------------------------------------------------------------------\n",
      "const          1.8308      0.356      5.145      0.000       1.133       2.528\n",
      "age           -0.0429      0.007     -6.261      0.000      -0.056      -0.029\n",
      "x1             0.2744      0.157      1.752      0.080      -0.033       0.581\n",
      "x3            -0.0321      0.155     -0.207      0.836      -0.336       0.272\n",
      "==============================================================================\n",
      "\n",
      "\n",
      "--- censor_numerator Model Summary ---\n",
      "                           Logit Regression Results                           \n",
      "==============================================================================\n",
      "Dep. Variable:               censored   No. Observations:                  725\n",
      "Model:                          Logit   Df Residuals:                      723\n",
      "Method:                           MLE   Df Model:                            1\n",
      "Date:                Fri, 07 Mar 2025   Pseudo R-squ.:                 0.02676\n",
      "Time:                        09:46:10   Log-Likelihood:                -196.70\n",
      "converged:                       True   LL-Null:                       -202.11\n",
      "Covariance Type:            nonrobust   LLR p-value:                  0.001007\n",
      "==============================================================================\n",
      "                 coef    std err          z      P>|z|      [0.025      0.975]\n",
      "------------------------------------------------------------------------------\n",
      "const          2.4481      0.141     17.415      0.000       2.173       2.724\n",
      "x2            -0.4486      0.137     -3.278      0.001      -0.717      -0.180\n",
      "==============================================================================\n",
      "\n",
      "\n",
      "--- censor_denominator Model Summary ---\n",
      "                           Logit Regression Results                           \n",
      "==============================================================================\n",
      "Dep. Variable:               censored   No. Observations:                  725\n",
      "Model:                          Logit   Df Residuals:                      722\n",
      "Method:                           MLE   Df Model:                            2\n",
      "Date:                Fri, 07 Mar 2025   Pseudo R-squ.:                 0.04069\n",
      "Time:                        09:46:10   Log-Likelihood:                -193.88\n",
      "converged:                       True   LL-Null:                       -202.11\n",
      "Covariance Type:            nonrobust   LLR p-value:                 0.0002679\n",
      "==============================================================================\n",
      "                 coef    std err          z      P>|z|      [0.025      0.975]\n",
      "------------------------------------------------------------------------------\n",
      "const          2.2059      0.165     13.339      0.000       1.882       2.530\n",
      "x2            -0.4706      0.137     -3.423      0.001      -0.740      -0.201\n",
      "x1             0.7019      0.307      2.285      0.022       0.100       1.304\n",
      "==============================================================================\n",
      "\n",
      "\n"
     ]
    }
   ],
   "source": [
    "# 3. Weight models\n",
    "# 3.1 Censoring due to treatment switching\n",
    "trial_pp.set_switch_weight_model(numerator=['age'], denominator=['age', 'x1', 'x3'])\n",
    "\n",
    "# 3.2 Other informative censoring\n",
    "trial_pp.set_censor_weight_model(censor_event='censored', numerator=['x2'], denominator=['x2', 'x1'], pool_models=\"none\")\n",
    "# trial_itt.set_censor_weight_model(censor_event='censored', numerator=['x2'], denominator=['x2', 'x1'], pool_models=\"numerator\")\n",
    "\n",
    "# 4 Calculate weights\n",
    "trial_pp.calculate_weights()\n",
    "# trial_itt.calculate_weights()\n",
    "\n",
    "trial_pp.show_weight_models()\n",
    "# trial_itt.show_weight_models()\n"
   ]
  },
  {
   "cell_type": "markdown",
   "metadata": {},
   "source": [
    "## Expand Trials"
   ]
  },
  {
   "cell_type": "code",
   "execution_count": 771,
   "metadata": {},
   "outputs": [
    {
     "data": {
      "text/plain": [
       "<__main__.TrialSequence at 0x12ec54380>"
      ]
     },
     "execution_count": 771,
     "metadata": {},
     "output_type": "execute_result"
    }
   ],
   "source": [
    "trial_pp.expand_trials()"
   ]
  },
  {
   "cell_type": "markdown",
   "metadata": {},
   "source": [
    "## Fit Marginal Structural Model"
   ]
  },
  {
   "cell_type": "code",
   "execution_count": 772,
   "metadata": {},
   "outputs": [
    {
     "data": {
      "text/plain": [
       "<__main__.TrialSequence at 0x12ec54380>"
      ]
     },
     "execution_count": 772,
     "metadata": {},
     "output_type": "execute_result"
    }
   ],
   "source": [
    "trial_pp.fit_msm()"
   ]
  },
  {
   "cell_type": "markdown",
   "metadata": {},
   "source": [
    "## Predict"
   ]
  },
  {
   "cell_type": "code",
   "execution_count": 773,
   "metadata": {},
   "outputs": [
    {
     "data": {
      "image/png": "[encoded data removed]",
      "text/plain": [
       "<Figure size 640x480 with 1 Axes>"
      ]
     },
     "metadata": {},
     "output_type": "display_data"
    }
   ],
   "source": [
    "trial_pp.predict_survival()"
   ]
  }
 ],
 "metadata": {
  "kernelspec": {
   "display_name": "Python 3",
   "language": "python",
   "name": "python3"
  },
  "language_info": {
   "codemirror_mode": {
    "name": "ipython",
    "version": 3
   },
   "file_extension": ".py",
   "mimetype": "text/x-python",
   "name": "python",
   "nbconvert_exporter": "python",
   "pygments_lexer": "ipython3",
   "version": "3.12.5"
  }
 },
 "nbformat": 4,
 "nbformat_minor": 2
}
